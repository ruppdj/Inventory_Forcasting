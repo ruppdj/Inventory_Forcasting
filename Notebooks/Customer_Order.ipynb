{
 "cells": [
  {
   "cell_type": "code",
   "execution_count": null,
   "metadata": {
    "collapsed": true
   },
   "outputs": [],
   "source": [
    "import pandas as pd\n",
    "import numpy as np\n",
    "import matplotlib.pyplot as plt\n",
    "%matplotlib inline"
   ]
  },
  {
   "cell_type": "code",
   "execution_count": null,
   "metadata": {
    "collapsed": true
   },
   "outputs": [],
   "source": [
    "df = pd.read_pickle('/home/ubuntu/data/jacksonville_2014_2017.pkl')"
   ]
  },
  {
   "cell_type": "code",
   "execution_count": null,
   "metadata": {
    "collapsed": true
   },
   "outputs": [],
   "source": [
    "def group_by_materal(df):\n",
    "    '''Reformat DataFrame so that order date is by row and item is by column.  \n",
    "    Values are total quantity ordered for that item on that day\n",
    "    \n",
    "    input pandas DataFrame \n",
    "    output pandas DataFrame'''\n",
    "    \n",
    "    df = df[['Customer Price Group','Calendar day','Material','Order Qty']]\n",
    "    df = df.groupby(by = ['Customer Price Group','Calendar day','Material'])['Order Qty'].sum()\n",
    "    df = df.unstack()\n",
    "    df.fillna(0, inplace=True)\n",
    "    df.columns = df.columns.droplevel()\n",
    "    return df\n",
    "\n",
    "def remove_columns(df, x=2000 ):\n",
    "    '''Remove columns with less then x orders to minimize data to analize.'''\n",
    "    \n",
    "    df.columns = df.columns.droplevel()\n",
    "    sums = df.sum(axis=0)\n",
    "    sums_drop = sums[sums < x]\n",
    "    d = list(sums_drop.index)\n",
    "    df1 = df.drop(d, axis=1)\n",
    "    return df1"
   ]
  },
  {
   "cell_type": "code",
   "execution_count": null,
   "metadata": {
    "collapsed": true
   },
   "outputs": [],
   "source": [
    "df.set_index('Calendar day', inplace=True)"
   ]
  },
  {
   "cell_type": "code",
   "execution_count": null,
   "metadata": {
    "collapsed": false
   },
   "outputs": [],
   "source": [
    "a.head()"
   ]
  },
  {
   "cell_type": "code",
   "execution_count": null,
   "metadata": {
    "collapsed": false
   },
   "outputs": [],
   "source": [
    "df['Customer Price Group'].value_counts()[:10]"
   ]
  },
  {
   "cell_type": "code",
   "execution_count": null,
   "metadata": {
    "collapsed": false
   },
   "outputs": [],
   "source": [
    "#find what clients use given item.\n",
    "clients = df['Customer Price Group'].unique()\n",
    "mat = '290100'\n",
    "itm = {}\n",
    "cnt = 0\n",
    "for c in clients:\n",
    "    t = df[df['Customer Price Group'] == c]\n",
    "    t = group_by_materal(t)\n",
    "    if mat in t.columns:\n",
    "        itm[c] = t.loc[:,mat].sum()"
   ]
  },
  {
   "cell_type": "code",
   "execution_count": null,
   "metadata": {
    "collapsed": false
   },
   "outputs": [],
   "source": [
    "#what client uses item and how much total they ordered\n",
    "print itm"
   ]
  },
  {
   "cell_type": "code",
   "execution_count": null,
   "metadata": {
    "collapsed": true
   },
   "outputs": [],
   "source": [
    "c_df = group_by_materal(df)"
   ]
  },
  {
   "cell_type": "code",
   "execution_count": null,
   "metadata": {
    "collapsed": true
   },
   "outputs": [],
   "source": [
    "c_1 = group_by_materal(df[df['Customer Price Group']=='9Y'])\n",
    "c_2 = group_by_materal(df[df['Customer Price Group']=='2J'])\n",
    "c_3 = group_by_materal(df[df['Customer Price Group']=='EG'])\n",
    "c_4 = group_by_materal(df[df['Customer Price Group']=='H4'])"
   ]
  },
  {
   "cell_type": "code",
   "execution_count": null,
   "metadata": {
    "collapsed": false,
    "scrolled": false
   },
   "outputs": [],
   "source": [
    "# Z8    16849\n",
    "# 35    16357\n",
    "# 62    15999\n",
    "# C1    15975\n",
    "\n",
    "c_z[[mat]].resample('M').plot(figsize=(20,10),subplots=True)\n",
    "c_1[[mat]].resample('M').plot(figsize=(20,10),subplots=True)\n",
    "c_2[[mat]].resample('M').plot(figsize=(20,10),subplots=True)\n",
    "c_3[[mat]].resample('M').plot(figsize=(20,10),subplots=True)\n",
    "c_4[[mat]].resample('M').plot(figsize=(20,10),subplots=True)"
   ]
  },
  {
   "cell_type": "code",
   "execution_count": null,
   "metadata": {
    "collapsed": false
   },
   "outputs": [],
   "source": [
    "c_df[mat].resample('W').sum().plot(figsize=(20,10))\n",
    "c_1[mat].resample('W').sum().plot(figsize=(20,10))\n",
    "c_2[mat].resample('W').sum().plot(figsize=(20,10))\n",
    "c_3[mat].resample('W').sum().plot(figsize=(20,10))\n",
    "c_4[mat].resample('W').sum().plot(figsize=(20,10))"
   ]
  },
  {
   "cell_type": "code",
   "execution_count": null,
   "metadata": {
    "collapsed": false
   },
   "outputs": [],
   "source": [
    "df.head()"
   ]
  },
  {
   "cell_type": "code",
   "execution_count": null,
   "metadata": {
    "collapsed": false
   },
   "outputs": [],
   "source": [
    "from bokeh.io import output_notebook, show\n",
    "output_notebook()\n",
    "\n",
    "\n",
    "from bokeh.io import curdoc\n",
    "from bokeh.layouts import column, row, widgetbox, layout, gridplot\n",
    "from bokeh.plotting import ColumnDataSource, Figure\n",
    "from bokeh.models.widgets import Select, TextInput, Slider, DataTable, DateFormatter, TableColumn, IntEditor\n",
    "from bokeh.plotting import figure\n",
    "\n",
    "from bokeh.charts import TimeSeries"
   ]
  },
  {
   "cell_type": "code",
   "execution_count": null,
   "metadata": {
    "collapsed": false
   },
   "outputs": [],
   "source": [
    "temp = c_3.resample('M').sum()\n",
    "temp = temp.reset_index()\n",
    "\n",
    "temp1 = c_z.resample('M').sum()\n",
    "temp1 = temp.reset_index()"
   ]
  },
  {
   "cell_type": "code",
   "execution_count": null,
   "metadata": {
    "collapsed": false
   },
   "outputs": [],
   "source": [
    "#plot found data in Bokeh\n",
    "p = figure(plot_width=600, plot_height=400, title=\"\", x_axis_type='datetime',x_axis_label=\"Date\",y_axis_label= 'Units Per Week')\n",
    "\n",
    "y_val = '100528'\n",
    "\n",
    "\n",
    "\n",
    "p.line(temp1['Calendar day'], temp1['208803'], color='navy', line_width=3 )\n",
    "p.line(temp1['Calendar day'], temp1['108134'], color='red', line_width=3)\n",
    "\n",
    "show(p)"
   ]
  },
  {
   "cell_type": "code",
   "execution_count": null,
   "metadata": {
    "collapsed": true
   },
   "outputs": [],
   "source": []
  }
 ],
 "metadata": {
  "kernelspec": {
   "display_name": "Python 2",
   "language": "python",
   "name": "python2"
  },
  "language_info": {
   "codemirror_mode": {
    "name": "ipython",
    "version": 2
   },
   "file_extension": ".py",
   "mimetype": "text/x-python",
   "name": "python",
   "nbconvert_exporter": "python",
   "pygments_lexer": "ipython2",
   "version": "2.7.13"
  }
 },
 "nbformat": 4,
 "nbformat_minor": 2
}
